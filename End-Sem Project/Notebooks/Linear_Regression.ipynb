{
 "cells": [
  {
   "cell_type": "code",
   "execution_count": 1,
   "metadata": {
    "id": "hqaOeuJVrCDL"
   },
   "outputs": [],
   "source": [
    "import pandas as pd\n",
    "import numpy as np\n",
    "import os\n",
    "import random\n",
    "import datetime\n",
    "import tensorflow as tf\n",
    "from tensorflow.keras.optimizers import Adam,SGD\n",
    "from keras.models import Sequential\n",
    "from keras.layers import Dense, Dropout, Activation, Flatten,LSTM,TimeDistributed\n",
    "from keras.layers import Convolution2D, MaxPooling2D,MaxPooling1D,Conv1D\n",
    "from keras.utils import np_utils\n",
    "from keras.callbacks import EarlyStopping, ModelCheckpoint\n",
    "from keras import optimizers\n",
    "from sklearn import metrics\n",
    "from sklearn.model_selection import train_test_split\n",
    "from sklearn.metrics import accuracy_score\n",
    "from tensorflow import keras\n",
    "from tensorflow.keras import layers\n",
    "import matplotlib.pyplot as plt\n",
    "import IPython\n",
    "from scipy.io import wavfile\n",
    "import scipy.signal\n",
    "import numpy as np\n",
    "import matplotlib.pyplot as plt\n",
    "import librosa\n",
    "%matplotlib inline\n",
    "import numpy, scipy, matplotlib.pyplot as plt, IPython.display as ipd\n",
    "import librosa, librosa.display"
   ]
  },
  {
   "cell_type": "code",
   "execution_count": 2,
   "metadata": {},
   "outputs": [],
   "source": [
    "Fs = 16000\n",
    "sr = 16000\n",
    "n_fft = 1024\n",
    "n_mfcc = 64\n",
    "hop_length = 512\n",
    "win_length = 1024"
   ]
  },
  {
   "cell_type": "code",
   "execution_count": 3,
   "metadata": {},
   "outputs": [],
   "source": [
    "def plot_loss(history):\n",
    "  plt.plot(history.history['loss'], label='loss')\n",
    "  plt.plot(history.history['val_loss'], label='val_loss')\n",
    "  plt.ylim([0, 10])\n",
    "  plt.xlabel('Epoch')\n",
    "  plt.ylabel('Error')\n",
    "  plt.legend()\n",
    "  plt.grid(True)"
   ]
  },
  {
   "cell_type": "code",
   "execution_count": 4,
   "metadata": {
    "id": "jqpfn4OwzWPQ"
   },
   "outputs": [],
   "source": [
    "def convert_y(y_pred,dim):\n",
    "  Y = []\n",
    "  if(dim==3):\n",
    "    for i in range(len(y_pred)):\n",
    "      index = np.argmax(y_pred[i])\n",
    "      if (index==0):\n",
    "        Y.append([1,0,0])\n",
    "      elif(index==1):\n",
    "        Y.append([0,1,0])\n",
    "      else:\n",
    "        Y.append([0,0,1])\n",
    "  if(dim==2):\n",
    "    for i in range(len(y_pred)):\n",
    "      if(y_pred[i][0]>y_pred[i][1]):\n",
    "        Y.append([1,0])\n",
    "      else:\n",
    "        Y.append([0,1])\n",
    "  return np.array(Y)"
   ]
  },
  {
   "cell_type": "code",
   "execution_count": 5,
   "metadata": {
    "id": "HZTWa6khrFgs"
   },
   "outputs": [],
   "source": [
    "def computeCM(y, y_hat,dim):\n",
    "  confusion_matrix = np.zeros([dim, dim], dtype=int)\n",
    "  for i in range(0,len(y)):\n",
    "    i1 = np.argmax(y_hat[i])\n",
    "    i2 = np.argmax(y[i])\n",
    "    confusion_matrix[i2][i1] += 1\n",
    "  return confusion_matrix"
   ]
  },
  {
   "cell_type": "code",
   "execution_count": 6,
   "metadata": {},
   "outputs": [],
   "source": [
    "def noise_reduction(x):\n",
    "    xt = x.T\n",
    "    k1 = -1e7\n",
    "    k2 = -1e7\n",
    "    index1 = []\n",
    "    index2 = []\n",
    "    for i in range(len(xt)):\n",
    "        id = np.argmax(xt[i])\n",
    "        if(xt[i][id]>-20):\n",
    "            id2 = np.argmin(xt[i])\n",
    "            if((xt[i][id2]>k1)and(xt[i][id2]>-80)): k1 = xt[i][id2]\n",
    "        else:\n",
    "            if((xt[i][id]>k2)and(xt[i][id]>-80)): k2 = xt[i][id]\n",
    "            index2.append(i)\n",
    "            ind_max = np.argpartition(xt[i], -20)[-20:]\n",
    "            k_max = np.sum(xt[i][ind_max])/20\n",
    "            if k_max<-40:\n",
    "                index1.append(i)\n",
    "    \n",
    "    if(k1<k2): k = k2\n",
    "    else: k = k1\n",
    "\n",
    "    avg = 0\n",
    "    ni = 0\n",
    "    \n",
    "    for i in index1:\n",
    "        z = xt[i][:]\n",
    "        avg1 = np.sum(z)/len(z)\n",
    "        avg = (avg1 + (avg*ni))/(ni+1)\n",
    "        ni += 1\n",
    "        z[z<0] = -80\n",
    "        xt[i][:] = z\n",
    "    if(len(index1)==0):\n",
    "        for i in index2:\n",
    "            z = xt[i][:]\n",
    "            avg1 = np.sum(z)/len(z)\n",
    "            avg = (avg1 + (avg*ni))/(ni+1)\n",
    "            ni += 1\n",
    "            z[z<0] = -80\n",
    "            xt[i][:] = z\n",
    "    return xt.T"
   ]
  },
  {
   "cell_type": "code",
   "execution_count": 7,
   "metadata": {},
   "outputs": [],
   "source": [
    "def stft_to_mfcc(x,Fs,n_mfcc):\n",
    "    x_mfcc = []\n",
    "    xt = x.T\n",
    "    for i in range(0,312,4):\n",
    "        mfcc = librosa.feature.mfcc(S = xt[:][i:i+4].T, sr = Fs, n_mfcc = n_mfcc)\n",
    "        if(len(mfcc[0])*(len(mfcc))==64*4):\n",
    "            x_mfcc.append(mfcc)\n",
    "        if(len(x_mfcc[0])==78):break\n",
    "    return np.array(x_mfcc)"
   ]
  },
  {
   "cell_type": "code",
   "execution_count": 77,
   "metadata": {},
   "outputs": [],
   "source": [
    "silence_pred = tf.keras.models.load_model(\"silence_pred.tf\")"
   ]
  },
  {
   "cell_type": "code",
   "execution_count": 78,
   "metadata": {
    "id": "UMO1s1WPsdBL"
   },
   "outputs": [],
   "source": [
    "X=[]\n",
    "Y=[]"
   ]
  },
  {
   "cell_type": "code",
   "execution_count": 79,
   "metadata": {
    "id": "zIFnLMKjtaYI",
    "scrolled": true,
    "tags": []
   },
   "outputs": [],
   "source": [
    "silence_path = \"Silence/Spectrogram/\"\n",
    "for file in os.listdir(silence_path):\n",
    "    a = (np.load(silence_path+file))\n",
    "    a = noise_reduction(a)\n",
    "    a = stft_to_mfcc(a,Fs,n_mfcc)\n",
    "    \n",
    "    K = []\n",
    "    for i in range(len(a)):\n",
    "        k = a[i].flatten()\n",
    "        if(len(k)!=256):\n",
    "          continue\n",
    "        K.append(k)\n",
    "    K = np.array(K)\n",
    "    \n",
    "    for i in range(len(K)):\n",
    "        X.append(np.array(K[i]))\n",
    "        Y.append([0,0,1])"
   ]
  },
  {
   "cell_type": "code",
   "execution_count": 80,
   "metadata": {
    "id": "UMO1s1WPsdBL"
   },
   "outputs": [],
   "source": [
    "music_path = 'Music/Spectrogram/'\n",
    "for file in os.listdir(music_path):\n",
    "    a = (np.load(music_path+file))\n",
    "    a = stft_to_mfcc(a,Fs,n_mfcc)\n",
    "    K = []\n",
    "    for i in range(len(a)):\n",
    "        k = a[i].flatten()\n",
    "        if(len(k)!=256):\n",
    "          continue\n",
    "        K.append(k)\n",
    "    K = np.array(K)\n",
    "    for i in range(len(K)):\n",
    "        X.append(np.array(K[i]))\n",
    "        Y.append([1,0,0])\n",
    "#         if(y_pred[i]>=0.59): Y.append([0,0,1])\n",
    "#         else :Y.append([1,0,0])"
   ]
  },
  {
   "cell_type": "code",
   "execution_count": 81,
   "metadata": {
    "id": "SCafGR7Ts5UF"
   },
   "outputs": [],
   "source": [
    "speech_path = \"Speech/Spectrogram/\"\n",
    "j = 0\n",
    "for file in os.listdir(speech_path):\n",
    "    if(j==100):break\n",
    "    a = (np.load(speech_path+file))\n",
    "    a = stft_to_mfcc(a,Fs,n_mfcc)\n",
    "    K = []\n",
    "    for i in range(len(a)):\n",
    "        k = a[i].flatten()\n",
    "        if(len(k)!=256):\n",
    "          continue\n",
    "        K.append(k)\n",
    "    K = np.array(K)\n",
    "    y_pred = silence_pred.predict(K)\n",
    "    for i in range(len(K)):\n",
    "        X.append(np.array(K[i]))\n",
    "#         Y.append([0,1,0])\n",
    "        if(y_pred[i]>=0.59): Y.append([0,0,1])\n",
    "        else :Y.append([0,1,0])\n",
    "    j += 1"
   ]
  },
  {
   "cell_type": "code",
   "execution_count": 82,
   "metadata": {
    "id": "Kms6r7W-xLdb"
   },
   "outputs": [],
   "source": [
    "X = np.array(X)\n",
    "y = np.array(Y)"
   ]
  },
  {
   "cell_type": "code",
   "execution_count": 83,
   "metadata": {},
   "outputs": [
    {
     "name": "stdout",
     "output_type": "stream",
     "text": [
      "(33290, 256)\n"
     ]
    }
   ],
   "source": [
    "print(X.shape)"
   ]
  },
  {
   "cell_type": "code",
   "execution_count": 84,
   "metadata": {},
   "outputs": [
    {
     "name": "stdout",
     "output_type": "stream",
     "text": [
      "(33290, 3)\n"
     ]
    }
   ],
   "source": [
    "print(y.shape)"
   ]
  },
  {
   "cell_type": "code",
   "execution_count": 85,
   "metadata": {},
   "outputs": [
    {
     "data": {
      "text/plain": [
       "array([21590,  6296,  5404])"
      ]
     },
     "execution_count": 85,
     "metadata": {},
     "output_type": "execute_result"
    }
   ],
   "source": [
    "np.sum(y,axis=0)"
   ]
  },
  {
   "cell_type": "code",
   "execution_count": 86,
   "metadata": {
    "id": "GGcQb9Sqtpl0"
   },
   "outputs": [],
   "source": [
    "X_train, X_test, y_train, y_test = train_test_split(X, y, test_size=0.2, random_state=1)\n",
    "X_train, X_val, y_train, y_val = train_test_split(X_train, y_train, test_size=0.25, random_state=1)"
   ]
  },
  {
   "cell_type": "code",
   "execution_count": 87,
   "metadata": {
    "id": "EgJccOItxEd-"
   },
   "outputs": [],
   "source": [
    "normalizer = tf.keras.layers.Normalization(axis=-1)\n",
    "normalizer.adapt(np.array(X_train))"
   ]
  },
  {
   "cell_type": "code",
   "execution_count": 88,
   "metadata": {
    "id": "65qRUOf3wteN"
   },
   "outputs": [],
   "source": [
    "Linear_model = tf.keras.Sequential([\n",
    "    normalizer,\n",
    "    layers.Dense(units=3)\n",
    "])"
   ]
  },
  {
   "cell_type": "code",
   "execution_count": 89,
   "metadata": {
    "colab": {
     "base_uri": "https://localhost:8080/"
    },
    "id": "5tUqQ8RnxBad",
    "outputId": "5ecc91fe-3e71-4e25-feaa-16acd76dc1cb"
   },
   "outputs": [
    {
     "name": "stdout",
     "output_type": "stream",
     "text": [
      "Model: \"sequential_3\"\n",
      "_________________________________________________________________\n",
      " Layer (type)                Output Shape              Param #   \n",
      "=================================================================\n",
      " normalization_3 (Normalizat  (None, 256)              513       \n",
      " ion)                                                            \n",
      "                                                                 \n",
      " dense_3 (Dense)             (None, 3)                 771       \n",
      "                                                                 \n",
      "=================================================================\n",
      "Total params: 1,284\n",
      "Trainable params: 771\n",
      "Non-trainable params: 513\n",
      "_________________________________________________________________\n"
     ]
    }
   ],
   "source": [
    "Linear_model.summary()"
   ]
  },
  {
   "cell_type": "code",
   "execution_count": 90,
   "metadata": {
    "id": "CyjflWS0yc3V"
   },
   "outputs": [],
   "source": [
    "Linear_model.compile(\n",
    "    optimizer=tf.optimizers.Adam(learning_rate=0.01),\n",
    "    loss='mean_absolute_error')"
   ]
  },
  {
   "cell_type": "code",
   "execution_count": 91,
   "metadata": {
    "id": "UAOpzKDmyfXc"
   },
   "outputs": [],
   "source": [
    "history = Linear_model.fit(\n",
    "    X_train,\n",
    "    y_train,\n",
    "    epochs=30,\n",
    "    verbose=0,\n",
    "    validation_data=(X_val,y_val))"
   ]
  },
  {
   "cell_type": "code",
   "execution_count": 92,
   "metadata": {
    "colab": {
     "base_uri": "https://localhost:8080/",
     "height": 283
    },
    "id": "Y5gdNwuhzY4F",
    "outputId": "bfefcae4-d481-4bc3-e2e8-73661e2443d3"
   },
   "outputs": [
    {
     "data": {
      "image/png": "[encoded data removed]",
      "text/plain": [
       "<Figure size 432x288 with 1 Axes>"
      ]
     },
     "metadata": {
      "needs_background": "light"
     },
     "output_type": "display_data"
    }
   ],
   "source": [
    "plot_loss(history)"
   ]
  },
  {
   "cell_type": "code",
   "execution_count": 93,
   "metadata": {},
   "outputs": [
    {
     "name": "stdout",
     "output_type": "stream",
     "text": [
      "209/209 [==============================] - 0s 647us/step - loss: 0.3833\n",
      "test loss, test acc: 0.3833075165748596\n"
     ]
    }
   ],
   "source": [
    "results = Linear_model.evaluate(X_test, y_test)\n",
    "print(\"test loss, test acc:\", results)"
   ]
  },
  {
   "cell_type": "code",
   "execution_count": 94,
   "metadata": {
    "id": "vgTQjgzUyhKF"
   },
   "outputs": [],
   "source": [
    "y_pred = Linear_model.predict(X_test)"
   ]
  },
  {
   "cell_type": "code",
   "execution_count": 95,
   "metadata": {
    "id": "4ataLL47zgBc"
   },
   "outputs": [],
   "source": [
    "y_pred = convert_y(y_pred,3)"
   ]
  },
  {
   "cell_type": "code",
   "execution_count": 96,
   "metadata": {
    "colab": {
     "base_uri": "https://localhost:8080/"
    },
    "id": "SfnsplzmzjFc",
    "outputId": "a300066f-a220-4501-df70-7d0f5b33ae33"
   },
   "outputs": [
    {
     "data": {
      "text/plain": [
       "array([[3440,  515,  379],\n",
       "       [ 551,  527,  141],\n",
       "       [ 472,  122,  511]])"
      ]
     },
     "execution_count": 96,
     "metadata": {},
     "output_type": "execute_result"
    }
   ],
   "source": [
    "CM = computeCM(y_test,y_pred,3)\n",
    "CM"
   ]
  },
  {
   "cell_type": "code",
   "execution_count": 97,
   "metadata": {
    "colab": {
     "base_uri": "https://localhost:8080/"
    },
    "id": "opRanh9BznJ0",
    "outputId": "18c3577a-fedd-46d3-b9cb-637a1a4b2674"
   },
   "outputs": [
    {
     "data": {
      "text/plain": [
       "0.6725743466506459"
      ]
     },
     "execution_count": 97,
     "metadata": {},
     "output_type": "execute_result"
    }
   ],
   "source": [
    "accuracy_score(y_test,y_pred)"
   ]
  },
  {
   "cell_type": "code",
   "execution_count": 98,
   "metadata": {},
   "outputs": [
    {
     "name": "stdout",
     "output_type": "stream",
     "text": [
      "INFO:tensorflow:Assets written to: Linear_model.tf\\assets\n"
     ]
    }
   ],
   "source": [
    "tf.keras.models.save_model(Linear_model,'Linear_model.tf')"
   ]
  },
  {
   "cell_type": "code",
   "execution_count": null,
   "metadata": {},
   "outputs": [],
   "source": []
  }
 ],
 "metadata": {
  "colab": {
   "collapsed_sections": [],
   "name": "Linear_Regression_Mfcc.ipynb",
   "provenance": []
  },
  "kernelspec": {
   "display_name": "Python 3",
   "language": "python",
   "name": "python3"
  },
  "language_info": {
   "codemirror_mode": {
    "name": "ipython",
    "version": 3
   },
   "file_extension": ".py",
   "mimetype": "text/x-python",
   "name": "python",
   "nbconvert_exporter": "python",
   "pygments_lexer": "ipython3",
   "version": "3.8.8"
  }
 },
 "nbformat": 4,
 "nbformat_minor": 4
}
