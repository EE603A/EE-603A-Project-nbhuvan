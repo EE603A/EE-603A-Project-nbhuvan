{
 "cells": [
  {
   "cell_type": "code",
   "execution_count": 1,
   "id": "591a9385-1bfc-487b-a7e4-2c9d8c0dc130",
   "metadata": {},
   "outputs": [],
   "source": [
    "import pandas as pd\n",
    "import numpy as np\n",
    "import os\n",
    "import random\n",
    "import datetime\n",
    "import tensorflow as tf\n",
    "from tensorflow.keras.optimizers import Adam,SGD\n",
    "from keras.models import Sequential\n",
    "from keras.layers import Dense, Dropout, Activation, Flatten,LSTM,TimeDistributed\n",
    "from keras.layers import Convolution2D, MaxPooling2D,MaxPooling1D,Conv1D\n",
    "from keras.utils import np_utils\n",
    "from keras.callbacks import EarlyStopping, ModelCheckpoint\n",
    "from keras import optimizers\n",
    "from sklearn import metrics\n",
    "from sklearn.model_selection import train_test_split\n",
    "from sklearn.metrics import accuracy_score\n",
    "from tensorflow import keras\n",
    "from tensorflow.keras import layers\n",
    "import matplotlib.pyplot as plt\n",
    "import IPython\n",
    "from scipy.io import wavfile\n",
    "import scipy.signal\n",
    "import numpy as np\n",
    "import matplotlib.pyplot as plt\n",
    "import librosa\n",
    "%matplotlib inline\n",
    "import numpy, scipy, matplotlib.pyplot as plt, IPython.display as ipd\n",
    "import librosa, librosa.display"
   ]
  },
  {
   "cell_type": "code",
   "execution_count": 2,
   "id": "449a4c5c-82bb-4e3e-94a9-0b67836593c1",
   "metadata": {},
   "outputs": [],
   "source": [
    "def plot_loss(history):\n",
    "  plt.plot(history.history['loss'], label='loss')\n",
    "  plt.plot(history.history['val_loss'], label='val_loss')\n",
    "  plt.ylim([0, 10])\n",
    "  plt.xlabel('Epoch')\n",
    "  plt.ylabel('Error')\n",
    "  plt.legend()\n",
    "  plt.grid(True)"
   ]
  },
  {
   "cell_type": "code",
   "execution_count": 3,
   "id": "54ee987d-0927-4334-8c4d-436c4521692f",
   "metadata": {},
   "outputs": [],
   "source": [
    "def convert_y(y_pred,dim):\n",
    "  Y = []\n",
    "  if(dim==3):\n",
    "    for i in range(len(y_pred)):\n",
    "      index = np.argmax(y_pred[i])\n",
    "      if (index==0):\n",
    "        Y.append([1,0,0])\n",
    "      elif(index==1):\n",
    "        Y.append([0,1,0])\n",
    "      else:\n",
    "        Y.append([0,0,1])\n",
    "  if(dim==2):\n",
    "    for i in range(len(y_pred)):\n",
    "      if(y_pred[i][0]>y_pred[i][1]):\n",
    "        Y.append([1,0])\n",
    "      else:\n",
    "        Y.append([0,1])\n",
    "  return np.array(Y)"
   ]
  },
  {
   "cell_type": "code",
   "execution_count": 4,
   "id": "ecc1f461-5731-4734-b929-3b362f4ff228",
   "metadata": {},
   "outputs": [],
   "source": [
    "def computeCM(y, y_hat,dim):\n",
    "  confusion_matrix = np.zeros([dim, dim], dtype=int)\n",
    "  for i in range(0,len(y)):\n",
    "    i1 = np.argmax(y_hat[i])\n",
    "    i2 = np.argmax(y[i])\n",
    "    confusion_matrix[i2][i1] += 1\n",
    "  return confusion_matrix"
   ]
  },
  {
   "cell_type": "code",
   "execution_count": 5,
   "id": "68175602-6a50-4123-9844-c8e374065b6a",
   "metadata": {},
   "outputs": [],
   "source": [
    "def noise_reduction(x):\n",
    "    xt = x.T\n",
    "    k1 = -1e7\n",
    "    k2 = -1e7\n",
    "    index = []\n",
    "    for i in range(len(xt)):\n",
    "        id = np.argmax(xt[i])\n",
    "        if(xt[i][id]>-20):\n",
    "            id2 = np.argmin(xt[i])\n",
    "            if((xt[i][id2]>k1)and(xt[i][id2]>-80)): k1 = xt[i][id2]\n",
    "        else:\n",
    "            if((xt[i][id]>k2)and(xt[i][id]>-80)): k2 = xt[i][id]\n",
    "            index.append(i)\n",
    "    \n",
    "    if(k1<k2): k = k2\n",
    "    else: k = k1\n",
    "\n",
    "    avg = 0\n",
    "    ni = 0\n",
    "    \n",
    "    for i in index:\n",
    "        z = xt[i][:]\n",
    "        avg1 = np.sum(z)/len(z)\n",
    "        avg = (avg1 + (avg*ni))/(ni+1)\n",
    "        ni += 1\n",
    "        z[z<0] = -80\n",
    "        xt[i][:] = z\n",
    "    \n",
    "    for i in range(len(xt)):\n",
    "        id = np.argmax(xt[i])\n",
    "        if(xt[i][id]<=avg):\n",
    "            z = xt[i][:]\n",
    "            z[z<0] = -80\n",
    "            xt[i][:] = z\n",
    "    return xt.T"
   ]
  },
  {
   "cell_type": "code",
   "execution_count": 6,
   "id": "a4ce67ee-85bd-4d65-a824-4f005de1234c",
   "metadata": {},
   "outputs": [],
   "source": [
    "def stft_to_mfcc(x,Fs,n_mfcc):\n",
    "    x_mfcc = []\n",
    "    xt = x.T\n",
    "    for i in range(0,312,4):\n",
    "        mfcc = librosa.feature.mfcc(S = xt[:][i:i+4].T, sr = Fs, n_mfcc = n_mfcc)\n",
    "        if(len(mfcc[0])*(len(mfcc))==64*4):\n",
    "            x_mfcc.append(mfcc)\n",
    "        if(len(x_mfcc[0])==78):break\n",
    "    return np.array(x_mfcc)"
   ]
  },
  {
   "cell_type": "code",
   "execution_count": 7,
   "id": "84f397ff-f9c8-423c-a4d0-39bb56669110",
   "metadata": {},
   "outputs": [],
   "source": [
    "Fs = 16000\n",
    "sr = 16000\n",
    "n_fft = 1024\n",
    "n_mfcc = 64\n",
    "hop_length = 512\n",
    "win_length = 1024"
   ]
  },
  {
   "cell_type": "code",
   "execution_count": 8,
   "id": "0405831a-4cc0-498f-a240-2ce1498be7d8",
   "metadata": {},
   "outputs": [],
   "source": [
    "X=[]\n",
    "Y=[]"
   ]
  },
  {
   "cell_type": "code",
   "execution_count": 9,
   "id": "ed90584f-9bd7-46c3-a5db-445e3ef63cbf",
   "metadata": {},
   "outputs": [],
   "source": [
    "silence_path = \"Silence/Spectrogram/\"\n",
    "silence_mfcc = []\n",
    "for file in os.listdir(silence_path):\n",
    "    a = (np.load(silence_path+file))\n",
    "    a = noise_reduction(a)\n",
    "    mfcc = stft_to_mfcc(a,Fs,n_mfcc)\n",
    "    silence_mfcc.append(mfcc)"
   ]
  },
  {
   "cell_type": "code",
   "execution_count": 10,
   "id": "ded7ed40-9a6b-49d9-aeee-31500a9fc3e4",
   "metadata": {},
   "outputs": [
    {
     "data": {
      "text/plain": [
       "50"
      ]
     },
     "execution_count": 10,
     "metadata": {},
     "output_type": "execute_result"
    }
   ],
   "source": [
    "len(silence_mfcc)"
   ]
  },
  {
   "cell_type": "code",
   "execution_count": 11,
   "id": "a265c07e-edb4-410a-99b8-482f1f4ca1c7",
   "metadata": {},
   "outputs": [],
   "source": [
    "music_path = 'Music/Spectrogram/'\n",
    "music_mfcc = []\n",
    "j = 1\n",
    "for file in os.listdir(music_path):\n",
    "    if(j>50): break\n",
    "    a = (np.load(music_path+file))\n",
    "    mfcc = stft_to_mfcc(a,Fs,n_mfcc)\n",
    "    music_mfcc.append(mfcc)\n",
    "    j += 1"
   ]
  },
  {
   "cell_type": "code",
   "execution_count": 12,
   "id": "d89996f3-d0a4-4361-925e-7e67cb7a0974",
   "metadata": {},
   "outputs": [],
   "source": [
    "speech_path = \"Speech/Spectrogram/\"\n",
    "speech_mfcc = []\n",
    "j = 1\n",
    "for file in os.listdir(speech_path):\n",
    "    if(j>50): break\n",
    "    a = (np.load(speech_path+file))\n",
    "#     a = noise_reduction(a)\n",
    "    mfcc = stft_to_mfcc(a,Fs,n_mfcc)\n",
    "    speech_mfcc.append(mfcc)\n",
    "    j  += 1"
   ]
  },
  {
   "cell_type": "code",
   "execution_count": 13,
   "id": "07b98d54-a9fd-412e-be99-7c2d9adee3b1",
   "metadata": {},
   "outputs": [],
   "source": [
    "silence_mfcc = np.array(silence_mfcc)"
   ]
  },
  {
   "cell_type": "code",
   "execution_count": 14,
   "id": "6d7dec21-9ed7-4b80-bf13-ffe570e57b4d",
   "metadata": {},
   "outputs": [],
   "source": [
    "speech_mfcc = np.array(speech_mfcc)"
   ]
  },
  {
   "cell_type": "code",
   "execution_count": 15,
   "id": "097fb798-1c80-4034-85f1-10a90c60c480",
   "metadata": {},
   "outputs": [],
   "source": [
    "music_mfcc = np.array(music_mfcc)"
   ]
  },
  {
   "cell_type": "code",
   "execution_count": 16,
   "id": "7f3e5e15-7ef7-4e4d-b44a-eb6c28b5b961",
   "metadata": {},
   "outputs": [],
   "source": [
    "for i in range(50):\n",
    "    for j in range(78):\n",
    "        a_s = silence_mfcc[i][j].flatten()\n",
    "        X.append(a_s)\n",
    "        Y.append(1)"
   ]
  },
  {
   "cell_type": "code",
   "execution_count": 17,
   "id": "1de94a2e-50ad-444a-93e0-8ee3678a7f72",
   "metadata": {},
   "outputs": [],
   "source": [
    "for i in range(50):\n",
    "    for j in range(78):\n",
    "        a_s = speech_mfcc[i][j].flatten()\n",
    "        X.append(a_s)\n",
    "        Y.append(0)"
   ]
  },
  {
   "cell_type": "code",
   "execution_count": 18,
   "id": "d242e9c1-c45c-4243-8159-1a0b05e9b12a",
   "metadata": {},
   "outputs": [],
   "source": [
    "for i in range(50):\n",
    "    for j in range(78):\n",
    "        a_s = music_mfcc[i][j].flatten()\n",
    "        X.append(a_s)\n",
    "        Y.append(0)"
   ]
  },
  {
   "cell_type": "code",
   "execution_count": 19,
   "id": "e3a27ba6-7172-4a5e-8ca6-dd8b15e774a1",
   "metadata": {},
   "outputs": [],
   "source": [
    "X = np.array(X)\n",
    "y = np.array(Y)"
   ]
  },
  {
   "cell_type": "code",
   "execution_count": 20,
   "id": "a24c6c5b-c025-47ea-bb7b-eed40b8b55be",
   "metadata": {},
   "outputs": [
    {
     "name": "stdout",
     "output_type": "stream",
     "text": [
      "(11700, 256)\n",
      "(11700,)\n"
     ]
    }
   ],
   "source": [
    "print(X.shape)\n",
    "print(y.shape)"
   ]
  },
  {
   "cell_type": "code",
   "execution_count": 21,
   "id": "584bcf12-39e0-44a8-b8f5-8dbc5d074cdc",
   "metadata": {},
   "outputs": [],
   "source": [
    "X_train, X_test, y_train, y_test = train_test_split(X, y, test_size=0.2, random_state=1)\n",
    "X_train, X_val, y_train, y_val = train_test_split(X_train, y_train, test_size=0.25, random_state=1)"
   ]
  },
  {
   "cell_type": "code",
   "execution_count": 22,
   "id": "2ca5eb02-5be6-45a3-b3b6-c2aa3abd93b2",
   "metadata": {},
   "outputs": [],
   "source": [
    "normalizer = tf.keras.layers.Normalization(axis=-1)\n",
    "normalizer.adapt(np.array(X_train))\n",
    "silence_model = tf.keras.Sequential([\n",
    "    normalizer,\n",
    "    layers.Dense(units=1)\n",
    "])"
   ]
  },
  {
   "cell_type": "code",
   "execution_count": 23,
   "id": "139517ae-498c-4001-be6d-4de791fe6ab5",
   "metadata": {},
   "outputs": [
    {
     "name": "stdout",
     "output_type": "stream",
     "text": [
      "Model: \"sequential\"\n",
      "_________________________________________________________________\n",
      " Layer (type)                Output Shape              Param #   \n",
      "=================================================================\n",
      " normalization (Normalizatio  (None, 256)              513       \n",
      " n)                                                              \n",
      "                                                                 \n",
      " dense (Dense)               (None, 1)                 257       \n",
      "                                                                 \n",
      "=================================================================\n",
      "Total params: 770\n",
      "Trainable params: 257\n",
      "Non-trainable params: 513\n",
      "_________________________________________________________________\n"
     ]
    }
   ],
   "source": [
    "silence_model.summary()"
   ]
  },
  {
   "cell_type": "code",
   "execution_count": 24,
   "id": "c6fcf770-46b8-44e2-ba67-420113e98d65",
   "metadata": {},
   "outputs": [],
   "source": [
    "silence_model.compile(\n",
    "    optimizer=tf.optimizers.Adam(learning_rate=0.01),\n",
    "    loss='mean_absolute_error')"
   ]
  },
  {
   "cell_type": "code",
   "execution_count": 25,
   "id": "0d8bfaff-483e-475e-94f9-2a7cbde95ff9",
   "metadata": {},
   "outputs": [],
   "source": [
    "history = silence_model.fit(\n",
    "    X_train,\n",
    "    y_train,\n",
    "    epochs=50,\n",
    "    verbose=0,\n",
    "    validation_data=(X_val,y_val))"
   ]
  },
  {
   "cell_type": "code",
   "execution_count": 26,
   "id": "ae04edb2-7080-4399-afb7-f8234f6e34de",
   "metadata": {},
   "outputs": [
    {
     "data": {
      "image/png": "[encoded data removed]",
      "text/plain": [
       "<Figure size 432x288 with 1 Axes>"
      ]
     },
     "metadata": {
      "needs_background": "light"
     },
     "output_type": "display_data"
    }
   ],
   "source": [
    "plot_loss(history)"
   ]
  },
  {
   "cell_type": "code",
   "execution_count": 27,
   "id": "3ecea561-cde2-43af-9d46-1b1021a30e4e",
   "metadata": {},
   "outputs": [
    {
     "name": "stdout",
     "output_type": "stream",
     "text": [
      "74/74 [==============================] - 0s 519us/step - loss: 0.3552\n",
      "test loss, test acc: 0.3551727533340454\n"
     ]
    }
   ],
   "source": [
    "results = silence_model.evaluate(X_test, y_test)\n",
    "print(\"test loss, test acc:\", results)"
   ]
  },
  {
   "cell_type": "code",
   "execution_count": 28,
   "id": "d0563daa-6b81-4f76-b464-64cbd1dc332a",
   "metadata": {},
   "outputs": [],
   "source": [
    "y_pred = silence_model.predict(X_test)"
   ]
  },
  {
   "cell_type": "code",
   "execution_count": 29,
   "id": "f3be0659-0b27-4b48-902a-cae6f4634b54",
   "metadata": {},
   "outputs": [
    {
     "data": {
      "text/plain": [
       "0.8358974358974359"
      ]
     },
     "execution_count": 29,
     "metadata": {},
     "output_type": "execute_result"
    }
   ],
   "source": [
    "Y_pred = []\n",
    "for i in range(len(y_pred)):\n",
    "    if(y_pred[i]>=0.59):\n",
    "        Y_pred.append(1)\n",
    "    else:\n",
    "        Y_pred.append(0)\n",
    "Y_pred = np.array(Y_pred)\n",
    "accuracy_score(y_test,Y_pred)"
   ]
  },
  {
   "cell_type": "code",
   "execution_count": 30,
   "id": "72ad3691-46b8-44bc-ae00-5e309f8a5ec8",
   "metadata": {},
   "outputs": [
    {
     "name": "stdout",
     "output_type": "stream",
     "text": [
      "INFO:tensorflow:Assets written to: silence_pred.tf\\assets\n"
     ]
    }
   ],
   "source": [
    "tf.keras.models.save_model(silence_model,'silence_pred.tf')"
   ]
  },
  {
   "cell_type": "code",
   "execution_count": null,
   "id": "ddac4c6d-7b78-4987-9b87-e0c70953c0b3",
   "metadata": {},
   "outputs": [],
   "source": []
  }
 ],
 "metadata": {
  "kernelspec": {
   "display_name": "Python 3",
   "language": "python",
   "name": "python3"
  },
  "language_info": {
   "codemirror_mode": {
    "name": "ipython",
    "version": 3
   },
   "file_extension": ".py",
   "mimetype": "text/x-python",
   "name": "python",
   "nbconvert_exporter": "python",
   "pygments_lexer": "ipython3",
   "version": "3.8.8"
  }
 },
 "nbformat": 4,
 "nbformat_minor": 5
}
